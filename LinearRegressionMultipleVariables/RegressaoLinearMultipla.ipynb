{
 "cells": [
  {
   "cell_type": "markdown",
   "metadata": {},
   "source": [
    "# Regressão Linear Multivariada com NumPy\n",
    "\n",
    "Autor: Rodolfo Marinho\n",
    "\n",
    "Email: rodolfomarinho (at) copin (dot) ufcg (dot) edu (dot) br"
   ]
  },
  {
   "cell_type": "code",
   "execution_count": 1,
   "metadata": {},
   "outputs": [],
   "source": [
    "import numpy as np\n",
    "import math\n",
    "import time"
   ]
  },
  {
   "cell_type": "markdown",
   "metadata": {},
   "source": [
    "### Versão não vetorizada\n",
    "Função para calcular o MSE (Mean Squared Error):\n",
    "\n",
    "$MSE(\\hat{w}) = \\frac{1}{N} \\sum_{i=1}^N (y_i - \\hat{y}_i (x_i))^2$"
   ]
  },
  {
   "cell_type": "code",
   "execution_count": 2,
   "metadata": {},
   "outputs": [],
   "source": [
    "# y = mx + b\n",
    "# m is slope, b is y-intercept\n",
    "def compute_hypothesis(b, m, X):\n",
    "    h_x = b\n",
    "    for i in range(m.size):\n",
    "        h_x += X[i] * m[i]\n",
    "    return h_x\n",
    "\n",
    "def compute_mse(b, m, points):\n",
    "    totalError = 0\n",
    "    for i in range(0, len(points)):\n",
    "        X = points[i, :-1]\n",
    "        y = points[i, -1]\n",
    "        totalError += (y - compute_hypothesis(b, m, X))**2\n",
    "    return totalError / float(len(points))"
   ]
  },
  {
   "cell_type": "markdown",
   "metadata": {},
   "source": [
    "Função para fazer uma atualização dos parâmetros no Gradiente Descendente:\n",
    "\n",
    "$w_0 = w_0 + 2\\alpha\\sum_{i=1}^N (y_i - (w_0+w_1x_{i_1}+w_2x_{i_2}+\\ldots+w_nx_{i_n}))$\n",
    "\n",
    "$w_1 = w_1 + 2\\alpha\\sum_{i=1}^N x_{i_1}(y_i - (w_0+w_1x_{i_1}+w_2x_{i_2}+\\ldots+w_nx_{i_n}))$\n",
    "\n",
    "...\n",
    "\n",
    "$w_n = w_n + 2\\alpha\\sum_{i=1}^N x_{i_n}(y_i - (w_0+w_1x_{i_1}+w_2x_{i_2}+\\ldots+w_nx_{i_n}))$"
   ]
  },
  {
   "cell_type": "code",
   "execution_count": 3,
   "metadata": {},
   "outputs": [],
   "source": [
    "def step_gradient(b_current, m_current, points, learningRate):\n",
    "    b_gradient = 0\n",
    "    m_gradient = np.zeros(m_current.size)\n",
    "    for i in range(0, len(points)):\n",
    "        X = points[i, :-1]\n",
    "        y = points[i, -1]\n",
    "        \n",
    "        h_x = compute_hypothesis(b_current, m_current, X)\n",
    "        b_gradient += y - h_x\n",
    "        for j in range(m_gradient.size):\n",
    "            m_gradient[j] += X[j] * (y - h_x)\n",
    "    new_b = b_current + (2 * learningRate * b_gradient)\n",
    "    new_m = np.add(m_current, 2 * learningRate * m_gradient)\n",
    "    return [new_b, new_m, b_gradient, m_gradient]"
   ]
  },
  {
   "cell_type": "markdown",
   "metadata": {},
   "source": [
    "$||\\mathbf{w}||_2 = \\sqrt{\\sum_{j=1}^D w_j^2}$"
   ]
  },
  {
   "cell_type": "code",
   "execution_count": 4,
   "metadata": {},
   "outputs": [],
   "source": [
    "def norm_2(x):\n",
    "    c=0\n",
    "    for i in range(len(x)):\n",
    "        c += x[i]**2\n",
    "    return math.sqrt(c)"
   ]
  },
  {
   "cell_type": "markdown",
   "metadata": {},
   "source": [
    "Função para iterar sobre o gradiente descendente até convergência."
   ]
  },
  {
   "cell_type": "code",
   "execution_count": 5,
   "metadata": {},
   "outputs": [],
   "source": [
    "def gradient_descent_runner(points, starting_b, starting_m, learning_rate, epsilon):\n",
    "    b = starting_b\n",
    "    m = starting_m\n",
    "    grad = np.array([np.inf]*(starting_m.size + 1))\n",
    "    i = 0\n",
    "    while (norm_2(grad)>=epsilon):\n",
    "        b, m, b_gradient, m_gradient = step_gradient(b, m, points, learning_rate)\n",
    "        grad = [b_gradient]\n",
    "        grad.extend(m_gradient)\n",
    "        grad = np.array(grad)\n",
    "        #print(\"Norm2:\",norm_2(grad))\n",
    "        if i % 1000 == 0:\n",
    "            #print(norm_2(grad))\n",
    "            print(\"MSE na iteração {0} é de {1}\".format(i,compute_mse(b,m,points)))\n",
    "        i+= 1\n",
    "    return [b, m]"
   ]
  },
  {
   "cell_type": "code",
   "execution_count": 6,
   "metadata": {},
   "outputs": [
    {
     "name": "stdout",
     "output_type": "stream",
     "text": [
      "Starting gradient descent at b = 0, m = [0. 0. 0. 0. 0.], error = 54.47995385562646\n",
      "Running...\n",
      "MSE na iteração 0 é de 33.302186462253474\n",
      "MSE na iteração 1000 é de 0.4300627860129182\n",
      "MSE na iteração 2000 é de 0.42848689972774284\n",
      "MSE na iteração 3000 é de 0.42707721580379643\n",
      "MSE na iteração 4000 é de 0.42578343897705406\n",
      "MSE na iteração 5000 é de 0.42459600894933835\n",
      "MSE na iteração 6000 é de 0.42350618412280805\n",
      "MSE na iteração 7000 é de 0.42250594147706977\n",
      "MSE na iteração 8000 é de 0.42158791747358043\n",
      "MSE na iteração 9000 é de 0.4207453538470714\n",
      "MSE na iteração 10000 é de 0.419972047852873\n",
      "MSE na iteração 11000 é de 0.4192623066038457\n",
      "MSE na iteração 12000 é de 0.41861090516075666\n",
      "MSE na iteração 13000 é de 0.4180130480675691\n",
      "MSE na iteração 14000 é de 0.4174643340484845\n",
      "MSE na iteração 15000 é de 0.4169607236068418\n",
      "MSE na iteração 16000 é de 0.4164985092873406\n",
      "MSE na iteração 17000 é de 0.41607428838267635\n",
      "Gradiente descendente convergiu com b = 0.9237624803254038, m = [0.11762623 0.08368579 0.1622438  0.42250996 0.03029455], erro = 0.415973797840725\n",
      "Versão não vetorizada rodou em: 8247.355461120605ms\n"
     ]
    }
   ],
   "source": [
    "points = np.genfromtxt(\"sample_treino.csv\", delimiter=\",\")\n",
    "learning_rate = 0.000035\n",
    "initial_b = 0 # initial y-intercept guess\n",
    "initial_m = np.zeros(points[0].size-1) # initial slope guess\n",
    "#num_iterations = 10000\n",
    "epsilon = 0.5\n",
    "print(\"Starting gradient descent at b = {0}, m = {1}, error = {2}\".format(initial_b, initial_m, compute_mse(initial_b, initial_m, points)))\n",
    "print(\"Running...\")\n",
    "tic = time.time()\n",
    "[b, m] = gradient_descent_runner(points, initial_b, initial_m, learning_rate, epsilon)\n",
    "toc = time.time()\n",
    "print(\"Gradiente descendente convergiu com b = {0}, m = {1}, erro = {2}\".format(b, m, compute_mse(b, m, points)))\n",
    "print(\"Versão não vetorizada rodou em: \" + str(1000*(toc-tic)) + \"ms\")"
   ]
  },
  {
   "cell_type": "markdown",
   "metadata": {},
   "source": [
    "### Versão Vetorizada"
   ]
  },
  {
   "cell_type": "markdown",
   "metadata": {},
   "source": [
    "$MSE(\\hat{w})=\\frac{1}{N}(y-\\hat{\\mathbf{w}}^T\\mathbf{x})^T(y-\\hat{\\mathbf{w}}^T\\mathbf{x})$"
   ]
  },
  {
   "cell_type": "code",
   "execution_count": 7,
   "metadata": {},
   "outputs": [],
   "source": [
    "def compute_mse_vectorized(w,X,Y):\n",
    "    res = Y - np.dot(X,w)\n",
    "    totalError = np.dot(res.T,res)\n",
    "    return totalError / float(len(Y))"
   ]
  },
  {
   "cell_type": "code",
   "execution_count": 8,
   "metadata": {},
   "outputs": [],
   "source": [
    "def step_gradient_vectorized(w_current,X,Y,learningRate):\n",
    "    res = Y - np.dot(X,w_current)\n",
    "    gradient = np.matmul(X.T,res)\n",
    "    new_w = np.add(w_current, 2 * learningRate * gradient)\n",
    "    return [new_w, gradient]\n",
    "    "
   ]
  },
  {
   "cell_type": "code",
   "execution_count": 9,
   "metadata": {},
   "outputs": [],
   "source": [
    "def gradient_descent_runner_vectorized(starting_w, X,Y, learning_rate, epsilon):\n",
    "    w = starting_w\n",
    "    grad = np.array([np.inf]*w.size)\n",
    "    i = 0\n",
    "    while (np.linalg.norm(grad)>=epsilon):\n",
    "        [w, grad] = step_gradient_vectorized(w, X, Y, learning_rate)\n",
    "        if i % 1000 == 0:\n",
    "            print(\"MSE na iteração {0} é de {1}\".format(i,compute_mse_vectorized(w, X, Y)))\n",
    "        i+= 1\n",
    "    return w"
   ]
  },
  {
   "cell_type": "code",
   "execution_count": 10,
   "metadata": {},
   "outputs": [
    {
     "name": "stdout",
     "output_type": "stream",
     "text": [
      "Starting gradient descent at b = 0.0, W = [0. 0. 0. 0. 0.], error = 54.47995385562645\n",
      "Running...\n",
      "MSE na iteração 0 é de 33.30218646225349\n",
      "MSE na iteração 1000 é de 0.4300627860129181\n",
      "MSE na iteração 2000 é de 0.4284868997277431\n",
      "MSE na iteração 3000 é de 0.4270772158037964\n",
      "MSE na iteração 4000 é de 0.42578343897705384\n",
      "MSE na iteração 5000 é de 0.4245960089493385\n",
      "MSE na iteração 6000 é de 0.4235061841228081\n",
      "MSE na iteração 7000 é de 0.4225059414770697\n",
      "MSE na iteração 8000 é de 0.42158791747358054\n",
      "MSE na iteração 9000 é de 0.4207453538470714\n",
      "MSE na iteração 10000 é de 0.41997204785287284\n",
      "MSE na iteração 11000 é de 0.4192623066038458\n",
      "MSE na iteração 12000 é de 0.41861090516075666\n",
      "MSE na iteração 13000 é de 0.41801304806756917\n",
      "MSE na iteração 14000 é de 0.41746433404848476\n",
      "MSE na iteração 15000 é de 0.4169607236068417\n",
      "MSE na iteração 16000 é de 0.41649850928734045\n",
      "MSE na iteração 17000 é de 0.4160742883826765\n",
      "Gradiente descendente convergiu com b = 0.9237624803254056, W = [0.11762623 0.08368579 0.1622438  0.42250996 0.03029455], error = 0.415973797840725\n",
      "Versão vetorizada rodou em: 326.68089866638184 ms\n"
     ]
    }
   ],
   "source": [
    "points = np.genfromtxt(\"sample_treino.csv\", delimiter=\",\")\n",
    "points = np.c_[np.ones(len(points)),points]\n",
    "X = points[:,:-1]\n",
    "Y = points[:,-1]\n",
    "init_w = np.zeros((X[0].size))\n",
    "learning_rate = 0.000035\n",
    "#num_iterations = 10000\n",
    "epsilon = 0.5\n",
    "print(\"Starting gradient descent at b = {0}, W = {1}, error = {2}\".format(init_w[0], init_w[1:], compute_mse_vectorized(init_w, X,Y)))\n",
    "print(\"Running...\")\n",
    "tic = time.time()\n",
    "w = gradient_descent_runner_vectorized(init_w, X,Y, learning_rate, epsilon)\n",
    "toc = time.time()\n",
    "print(\"Gradiente descendente convergiu com b = {0}, W = {1}, error = {2}\".format(w[0], w[1:], compute_mse_vectorized(w,X,Y)))\n",
    "print(\"Versão vetorizada rodou em: \" + str(1000*(toc-tic)) + \" ms\")\n"
   ]
  },
  {
   "cell_type": "markdown",
   "metadata": {
    "collapsed": true
   },
   "source": [
    "## Conclusão\n",
    "\n",
    "No decorrer desta atividade foi implementado o algoritmo de regressão linear múltipla utlizando um gradiente descendente. O algoritmo foi implementado tanto de forma vetorizada como na forma não vetorizada. Em ambos os casos, o número de iterações necessárias para que o algoritmo convergisse, bem como os valores estimados para b e W são idênticos, o que demonstra que ambas as implementações têm a mesma semântica.\n",
    "\n",
    "Por outro lado, podemos observar que a performance da implementação vetorizada é bem superior à da implementação não vetorizada. Isso se deve ao fato de otimizações implementadas nos métodos da biblioteca numpy. Para conjuntos de dados maiores que o utilizado nesta atividade, a utilização de formas vetorizadas de operações sobre matrizes e vetores pode ser crucial para diminuir o custo de execução dos algoritmos."
   ]
  }
 ],
 "metadata": {
  "kernelspec": {
   "display_name": "Python 3",
   "language": "python",
   "name": "python3"
  },
  "language_info": {
   "codemirror_mode": {
    "name": "ipython",
    "version": 3
   },
   "file_extension": ".py",
   "mimetype": "text/x-python",
   "name": "python",
   "nbconvert_exporter": "python",
   "pygments_lexer": "ipython3",
   "version": "3.6.5"
  }
 },
 "nbformat": 4,
 "nbformat_minor": 2
}
