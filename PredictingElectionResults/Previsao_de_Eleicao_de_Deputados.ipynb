{
 "cells": [
  {
   "cell_type": "markdown",
   "metadata": {},
   "source": [
    "# Previsão de Eleição de Deputados\n",
    "\n",
    "**Aluno:** Rodolfo Marinho\n",
    "\n",
    "Esta atividade tem como objetivo aplicar conhecimentos adquiridos sobre classificadores para prever o resultado das eleições dos candidatos às vagas de deputados em 2014.\n",
    "\n",
    "## Descrição dos dados\n",
    "\n",
    "Os dados utilizados nesta atividade se encontram neste [link](https://www.kaggle.com/c/ufcg-cdp-20182-lab3/data), e possuem as seguintes colunas:\n",
    "\n",
    "+ ano: Ano da eleição;\n",
    "+ sequencial_candidato: O identificador do candidato. Corresponde à coluna Id do arquivo de submissão;\n",
    "+ nome: Nome do candidato;\n",
    "+ uf: Sigla do estado do candidato;\n",
    "+ partido: Partido do candidato;\n",
    "+ quantidade_doacoes: Número de doações que um candidato recebeu;\n",
    "+ quantidade_doadores: Numero de doadores que um candidato teve;\n",
    "+ total_receita: Total de receita de um candidato;\n",
    "+ media_receita: Média da receita de um candidato;\n",
    "+ recursos_de_outros_candidatos.comites: Total de receita proveniente de outros candidatos e comitês;\n",
    "+ recursos_de_pessoas_fisicas: Total de receita proveniente de pessoas físicas;\n",
    "+ recursos_de_pessoas_juridicas: Total de receita proveniente de pessoas juridicas;\n",
    "+ recursos_proprios:Total de receita proveniente dos próprios candidatos;\n",
    "+ recursos_de_partido_politico: Total de receita proveniente do partido do candidato;\n",
    "+ quantidade_despesas: Número de despesas que um candidato teve;\n",
    "+ quantidade_fornecedores: Número de fornecedores que um candidato teve;\n",
    "+ total_despesa: Total de depesa de um candidato;\n",
    "+ media_despesa: Média da despesa de um candidato;\n",
    "+ cargo: Cargo ao qual o candidato está concorrendo;\n",
    "+ sexo: Sexo do candidato;\n",
    "+ grau: Grau de escolaridade do candidato;\n",
    "+ estado_civil: Estado civil do candidato;\n",
    "+ ocupacao: Ocupação do candidato;\n",
    "+ situacao: Situação final do candidato. Corresponde à coluna **Predict** do arquivo de submissão;\n",
    "\n",
    "## Pré-processamento dos dados\n",
    "\n",
    "Antes de tentar propor um modelo que se adeque à predição dos resultados das eleições, é importante conhecê-los um pouco melhor. Mais especificamente, nesta etapa buscamos entender se as classes são desbalanceadas (_i.e.,_ se existem mais exemplares de uma classe em relação às demais), e quais ações devem ser tomadas considerando as características dos dados disponíveis.\n",
    "\n"
   ]
  },
  {
   "cell_type": "code",
   "execution_count": 3,
   "metadata": {},
   "outputs": [
    {
     "data": {
      "text/plain": [
       "count           7622\n",
       "unique             2\n",
       "top       nao_eleito\n",
       "freq            6596\n",
       "Name: situacao, dtype: object"
      ]
     },
     "execution_count": 3,
     "metadata": {},
     "output_type": "execute_result"
    }
   ],
   "source": [
    "import numpy as np\n",
    "import pandas as pd\n",
    "\n",
    "data = pd.read_csv(\"data/train.csv\")\n",
    "data.situacao.describe()"
   ]
  }
 ],
 "metadata": {
  "kernelspec": {
   "display_name": "Python 3",
   "language": "python",
   "name": "python3"
  },
  "language_info": {
   "codemirror_mode": {
    "name": "ipython",
    "version": 3
   },
   "file_extension": ".py",
   "mimetype": "text/x-python",
   "name": "python",
   "nbconvert_exporter": "python",
   "pygments_lexer": "ipython3",
   "version": "3.6.5"
  }
 },
 "nbformat": 4,
 "nbformat_minor": 2
}
