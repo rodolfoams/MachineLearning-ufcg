{
 "cells": [
  {
   "cell_type": "markdown",
   "metadata": {},
   "source": [
    "# Previsão de Eleição de Deputados\n",
    "\n",
    "**Aluno:** Rodolfo Marinho\n",
    "\n",
    "Esta atividade tem como objetivo aplicar conhecimentos adquiridos sobre classificadores para prever o resultado das eleições dos candidatos às vagas de deputados em 2014.\n",
    "\n",
    "## Descrição dos dados\n",
    "\n",
    "Os dados utilizados nesta atividade se encontram neste [link](https://www.kaggle.com/c/ufcg-cdp-20182-lab3/data), e possuem as seguintes colunas:\n",
    "\n",
    "+ ano: Ano da eleição;\n",
    "+ sequencial_candidato: O identificador do candidato. Corresponde à coluna Id do arquivo de submissão;\n",
    "+ nome: Nome do candidato;\n",
    "+ uf: Sigla do estado do candidato;\n",
    "+ partido: Partido do candidato;\n",
    "+ quantidade_doacoes: Número de doações que um candidato recebeu;\n",
    "+ quantidade_doadores: Numero de doadores que um candidato teve;\n",
    "+ total_receita: Total de receita de um candidato;\n",
    "+ media_receita: Média da receita de um candidato;\n",
    "+ recursos_de_outros_candidatos.comites: Total de receita proveniente de outros candidatos e comitês;\n",
    "+ recursos_de_pessoas_fisicas: Total de receita proveniente de pessoas físicas;\n",
    "+ recursos_de_pessoas_juridicas: Total de receita proveniente de pessoas juridicas;\n",
    "+ recursos_proprios:Total de receita proveniente dos próprios candidatos;\n",
    "+ recursos_de_partido_politico: Total de receita proveniente do partido do candidato;\n",
    "+ quantidade_despesas: Número de despesas que um candidato teve;\n",
    "+ quantidade_fornecedores: Número de fornecedores que um candidato teve;\n",
    "+ total_despesa: Total de depesa de um candidato;\n",
    "+ media_despesa: Média da despesa de um candidato;\n",
    "+ cargo: Cargo ao qual o candidato está concorrendo;\n",
    "+ sexo: Sexo do candidato;\n",
    "+ grau: Grau de escolaridade do candidato;\n",
    "+ estado_civil: Estado civil do candidato;\n",
    "+ ocupacao: Ocupação do candidato;\n",
    "+ situacao: Situação final do candidato. Corresponde à coluna **Predict** do arquivo de submissão;\n",
    "\n",
    "## Pré-processamento dos dados\n",
    "\n",
    "Antes de tentar propor um modelo que se adeque à predição dos resultados das eleições, é importante conhecê-los um pouco melhor. Mais especificamente, nesta etapa buscamos entender se as classes são desbalanceadas (_i.e.,_ se existem mais exemplares de uma classe em relação às demais), e quais ações devem ser tomadas considerando as características dos dados disponibilizados.\n",
    "\n"
   ]
  },
  {
   "cell_type": "code",
   "execution_count": 45,
   "metadata": {},
   "outputs": [
    {
     "ename": "ImportError",
     "evalue": "cannot import name 'OrdinalEncoder'",
     "output_type": "error",
     "traceback": [
      "\u001b[0;31m---------------------------------------------------------------------------\u001b[0m",
      "\u001b[0;31mImportError\u001b[0m                               Traceback (most recent call last)",
      "\u001b[0;32m<ipython-input-45-a9eea1000eac>\u001b[0m in \u001b[0;36m<module>\u001b[0;34m()\u001b[0m\n\u001b[1;32m      2\u001b[0m \u001b[0;32mimport\u001b[0m \u001b[0mpandas\u001b[0m \u001b[0;32mas\u001b[0m \u001b[0mpd\u001b[0m\u001b[0;34m\u001b[0m\u001b[0m\n\u001b[1;32m      3\u001b[0m \u001b[0;32mimport\u001b[0m \u001b[0mmatplotlib\u001b[0m\u001b[0;34m.\u001b[0m\u001b[0mpyplot\u001b[0m \u001b[0;32mas\u001b[0m \u001b[0mplt\u001b[0m\u001b[0;34m\u001b[0m\u001b[0m\n\u001b[0;32m----> 4\u001b[0;31m \u001b[0;32mfrom\u001b[0m \u001b[0msklearn\u001b[0m\u001b[0;34m.\u001b[0m\u001b[0mpreprocessing\u001b[0m \u001b[0;32mimport\u001b[0m \u001b[0mOrdinalEncoder\u001b[0m\u001b[0;34m\u001b[0m\u001b[0m\n\u001b[0m\u001b[1;32m      5\u001b[0m \u001b[0;34m\u001b[0m\u001b[0m\n\u001b[1;32m      6\u001b[0m \u001b[0menc\u001b[0m \u001b[0;34m=\u001b[0m \u001b[0mOrdinalEncoder\u001b[0m\u001b[0;34m(\u001b[0m\u001b[0;34m)\u001b[0m\u001b[0;34m\u001b[0m\u001b[0m\n",
      "\u001b[0;31mImportError\u001b[0m: cannot import name 'OrdinalEncoder'"
     ]
    }
   ],
   "source": [
    "import numpy as np\n",
    "import pandas as pd\n",
    "import matplotlib.pyplot as plt\n",
    "from sklearn.preprocessing import OrdinalEncoder\n",
    "\n",
    "enc = OrdinalEncoder()\n",
    "\n",
    "dados_treino = pd.read_csv(\"dados/train.csv\")\n",
    "dados_teste = pd.read_csv(\"dados/test.csv\")\n",
    "\n",
    "situacoes = dados_treino.situacao.unique()\n",
    "cnts = dados_treino.situacao.value_counts()\n",
    "situacoes_cnt = [cnts[s] for s in situacoes]\n",
    "plt.pie(situacoes_cnt, labels=situacoes, autopct=\"%1.2f%%\")\n",
    "plt.title(\"Distribuição de exemplos por classe\")\n",
    "plt.show()"
   ]
  },
  {
   "cell_type": "markdown",
   "metadata": {},
   "source": [
    "Como podemos ver, os dados disponíveis para treino estção desbalanceados, sendo os exemplos de deputados não eleitos cerca de 520% mais frequentes que os exemplos de deputados eleitos. Sem os devidos cuidados, com tais dados, um classificador poderia facilmente ficar enviesado, tendendo a classificar as entradas sempre como não eleitos.\n",
    "\n",
    "Para evitar tal problema, várias alternativas podem ser consideradas. Dentre elas, podemos destacar:\n",
    "\n",
    "1. o uso de uma métrica que considere tanto a precisão quanto o _recall_;\n",
    "2. coleta de mais dados da classe minoritária;\n",
    "3. geração de dados sintéticos da classe minoritária.\n",
    "\n",
    "Por simplicidade, iremos apenas usar uma métrica como o _F1-score_ para tornar os modelos mais resistentes a enviesamento.\n",
    "\n",
    "## Treinando classificadores\n",
    "\n",
    "A seguir, usaremos os dados de treino para treinar modelos com estratégias distintas. Para melhorar a escolha dos parâmetros, usaremos a estratégia de validação cruzada. Para tanto, o primeiro passo necessário é separar os dados entre conjunto de treino e conjunto de validação.\n"
   ]
  },
  {
   "cell_type": "code",
   "execution_count": 37,
   "metadata": {},
   "outputs": [],
   "source": [
    "from sklearn.model_selection import train_test_split\n",
    "\n",
    "X = dados_treino.drop(columns='situacao')\n",
    "Y = dados_treino['situacao']\n",
    "\n",
    "X_train, X_val, Y_train, Y_val = train_test_split(X, Y, test_size = .3)"
   ]
  },
  {
   "cell_type": "markdown",
   "metadata": {},
   "source": [
    "### Regressão logística"
   ]
  },
  {
   "cell_type": "code",
   "execution_count": 40,
   "metadata": {},
   "outputs": [
    {
     "ename": "ValueError",
     "evalue": "could not convert string to float: 'MÉDICO'",
     "output_type": "error",
     "traceback": [
      "\u001b[0;31m---------------------------------------------------------------------------\u001b[0m",
      "\u001b[0;31mValueError\u001b[0m                                Traceback (most recent call last)",
      "\u001b[0;32m<ipython-input-40-e0e4c50df0e3>\u001b[0m in \u001b[0;36m<module>\u001b[0;34m()\u001b[0m\n\u001b[1;32m      3\u001b[0m \u001b[0;34m\u001b[0m\u001b[0m\n\u001b[1;32m      4\u001b[0m \u001b[0mlr_model\u001b[0m \u001b[0;34m=\u001b[0m \u001b[0mLogisticRegression\u001b[0m\u001b[0;34m(\u001b[0m\u001b[0;34m)\u001b[0m\u001b[0;34m\u001b[0m\u001b[0m\n\u001b[0;32m----> 5\u001b[0;31m \u001b[0mlr_model\u001b[0m\u001b[0;34m.\u001b[0m\u001b[0mfit\u001b[0m\u001b[0;34m(\u001b[0m\u001b[0mX_train\u001b[0m\u001b[0;34m,\u001b[0m \u001b[0mY_train\u001b[0m\u001b[0;34m)\u001b[0m\u001b[0;34m\u001b[0m\u001b[0m\n\u001b[0m\u001b[1;32m      6\u001b[0m \u001b[0mlr_model_val\u001b[0m \u001b[0;34m=\u001b[0m \u001b[0maverage_precision_score\u001b[0m\u001b[0;34m(\u001b[0m\u001b[0mY_val\u001b[0m\u001b[0;34m,\u001b[0m \u001b[0mlr_model\u001b[0m\u001b[0;34m.\u001b[0m\u001b[0mdecision_function\u001b[0m\u001b[0;34m(\u001b[0m\u001b[0mX_val\u001b[0m\u001b[0;34m)\u001b[0m\u001b[0;34m)\u001b[0m\u001b[0;34m\u001b[0m\u001b[0m\n\u001b[1;32m      7\u001b[0m \u001b[0;34m\u001b[0m\u001b[0m\n",
      "\u001b[0;32m~/anaconda3/lib/python3.6/site-packages/sklearn/linear_model/logistic.py\u001b[0m in \u001b[0;36mfit\u001b[0;34m(self, X, y, sample_weight)\u001b[0m\n\u001b[1;32m   1214\u001b[0m \u001b[0;34m\u001b[0m\u001b[0m\n\u001b[1;32m   1215\u001b[0m         X, y = check_X_y(X, y, accept_sparse='csr', dtype=_dtype,\n\u001b[0;32m-> 1216\u001b[0;31m                          order=\"C\")\n\u001b[0m\u001b[1;32m   1217\u001b[0m         \u001b[0mcheck_classification_targets\u001b[0m\u001b[0;34m(\u001b[0m\u001b[0my\u001b[0m\u001b[0;34m)\u001b[0m\u001b[0;34m\u001b[0m\u001b[0m\n\u001b[1;32m   1218\u001b[0m         \u001b[0mself\u001b[0m\u001b[0;34m.\u001b[0m\u001b[0mclasses_\u001b[0m \u001b[0;34m=\u001b[0m \u001b[0mnp\u001b[0m\u001b[0;34m.\u001b[0m\u001b[0munique\u001b[0m\u001b[0;34m(\u001b[0m\u001b[0my\u001b[0m\u001b[0;34m)\u001b[0m\u001b[0;34m\u001b[0m\u001b[0m\n",
      "\u001b[0;32m~/anaconda3/lib/python3.6/site-packages/sklearn/utils/validation.py\u001b[0m in \u001b[0;36mcheck_X_y\u001b[0;34m(X, y, accept_sparse, dtype, order, copy, force_all_finite, ensure_2d, allow_nd, multi_output, ensure_min_samples, ensure_min_features, y_numeric, warn_on_dtype, estimator)\u001b[0m\n\u001b[1;32m    571\u001b[0m     X = check_array(X, accept_sparse, dtype, order, copy, force_all_finite,\n\u001b[1;32m    572\u001b[0m                     \u001b[0mensure_2d\u001b[0m\u001b[0;34m,\u001b[0m \u001b[0mallow_nd\u001b[0m\u001b[0;34m,\u001b[0m \u001b[0mensure_min_samples\u001b[0m\u001b[0;34m,\u001b[0m\u001b[0;34m\u001b[0m\u001b[0m\n\u001b[0;32m--> 573\u001b[0;31m                     ensure_min_features, warn_on_dtype, estimator)\n\u001b[0m\u001b[1;32m    574\u001b[0m     \u001b[0;32mif\u001b[0m \u001b[0mmulti_output\u001b[0m\u001b[0;34m:\u001b[0m\u001b[0;34m\u001b[0m\u001b[0m\n\u001b[1;32m    575\u001b[0m         y = check_array(y, 'csr', force_all_finite=True, ensure_2d=False,\n",
      "\u001b[0;32m~/anaconda3/lib/python3.6/site-packages/sklearn/utils/validation.py\u001b[0m in \u001b[0;36mcheck_array\u001b[0;34m(array, accept_sparse, dtype, order, copy, force_all_finite, ensure_2d, allow_nd, ensure_min_samples, ensure_min_features, warn_on_dtype, estimator)\u001b[0m\n\u001b[1;32m    431\u001b[0m                                       force_all_finite)\n\u001b[1;32m    432\u001b[0m     \u001b[0;32melse\u001b[0m\u001b[0;34m:\u001b[0m\u001b[0;34m\u001b[0m\u001b[0m\n\u001b[0;32m--> 433\u001b[0;31m         \u001b[0marray\u001b[0m \u001b[0;34m=\u001b[0m \u001b[0mnp\u001b[0m\u001b[0;34m.\u001b[0m\u001b[0marray\u001b[0m\u001b[0;34m(\u001b[0m\u001b[0marray\u001b[0m\u001b[0;34m,\u001b[0m \u001b[0mdtype\u001b[0m\u001b[0;34m=\u001b[0m\u001b[0mdtype\u001b[0m\u001b[0;34m,\u001b[0m \u001b[0morder\u001b[0m\u001b[0;34m=\u001b[0m\u001b[0morder\u001b[0m\u001b[0;34m,\u001b[0m \u001b[0mcopy\u001b[0m\u001b[0;34m=\u001b[0m\u001b[0mcopy\u001b[0m\u001b[0;34m)\u001b[0m\u001b[0;34m\u001b[0m\u001b[0m\n\u001b[0m\u001b[1;32m    434\u001b[0m \u001b[0;34m\u001b[0m\u001b[0m\n\u001b[1;32m    435\u001b[0m         \u001b[0;32mif\u001b[0m \u001b[0mensure_2d\u001b[0m\u001b[0;34m:\u001b[0m\u001b[0;34m\u001b[0m\u001b[0m\n",
      "\u001b[0;31mValueError\u001b[0m: could not convert string to float: 'MÉDICO'"
     ]
    }
   ],
   "source": [
    "from sklearn.linear_model import LogisticRegression\n",
    "from sklearn.metrics import average_precision_score\n",
    "\n",
    "lr_model = LogisticRegression()\n",
    "lr_model.fit(X_train, Y_train)\n",
    "lr_model_val = average_precision_score(Y_val, lr_model.decision_function(X_val))\n",
    "\n",
    "print('- Modelo de regressão logística:')\n",
    "print('\\nResultados da validação: \\nAccuracy = %f\\nPrecision = %f\\nRecall = %f' % (lr_model.score(X_val, Y_val), precision_score(Y_val, lr_model.predict(X_val)), recall_score(Y_val, lr_model.predict(X_val))))\n"
   ]
  }
 ],
 "metadata": {
  "kernelspec": {
   "display_name": "Python 3",
   "language": "python",
   "name": "python3"
  },
  "language_info": {
   "codemirror_mode": {
    "name": "ipython",
    "version": 3
   },
   "file_extension": ".py",
   "mimetype": "text/x-python",
   "name": "python",
   "nbconvert_exporter": "python",
   "pygments_lexer": "ipython3",
   "version": "3.6.5"
  }
 },
 "nbformat": 4,
 "nbformat_minor": 2
}
